{
 "cells": [
  {
   "cell_type": "markdown",
   "metadata": {},
   "source": [
    "## Dataset Description\n",
    "\n",
    "The AB Testing dataset provided here is a synthetic dataset created using the Random Sampling technique provided by the Numpy Package. This dataset emulates information regarding visits made by users on imaginary retail websites across the UK. So, in this scenario, let the color 'White' be assigned to Group A which is the default setting for the background color on the website, representing the control group. Also, let the color 'Black' be equivalent to Group B which is the newer setting to test."
   ]
  },
  {
   "cell_type": "markdown",
   "metadata": {},
   "source": [
    "Below are all the features in the dataset:\n",
    "\n",
    "1. **User ID**: Serves as an identifier for each user.\n",
    "\n",
    "2. **Group**: Contains both the control group (A) and treatment group (B).\n",
    "3. **Page Views**: Number of pages the user viewed during their session.\n",
    "4. **Time Spent**: The total amount of time, in seconds, that the user spent on the site during the session.\n",
    "5. **Conversion**: Indicates whether a user has completed a desired action (Yes/No).\n",
    "6. **Device**: Type of device used to access the website.\n",
    "7. **Location**: The country in UK where the user is based in."
   ]
  },
  {
   "cell_type": "markdown",
   "metadata": {},
   "source": [
    "## Import Libraries"
   ]
  },
  {
   "cell_type": "code",
   "execution_count": 40,
   "metadata": {},
   "outputs": [],
   "source": [
    "import pandas as pd\n",
    "import numpy as np\n",
    "import matplotlib.pyplot as plt\n",
    "import seaborn as sns\n",
    "from scipy.stats import chi2_contingency, shapiro, levene, ttest_ind, mannwhitneyu\n",
    "from scipy import stats"
   ]
  },
  {
   "cell_type": "markdown",
   "metadata": {},
   "source": [
    "## Reading The Data"
   ]
  },
  {
   "cell_type": "code",
   "execution_count": 41,
   "metadata": {},
   "outputs": [
    {
     "data": {
      "text/html": [
       "<div>\n",
       "<style scoped>\n",
       "    .dataframe tbody tr th:only-of-type {\n",
       "        vertical-align: middle;\n",
       "    }\n",
       "\n",
       "    .dataframe tbody tr th {\n",
       "        vertical-align: top;\n",
       "    }\n",
       "\n",
       "    .dataframe thead th {\n",
       "        text-align: right;\n",
       "    }\n",
       "</style>\n",
       "<table border=\"1\" class=\"dataframe\">\n",
       "  <thead>\n",
       "    <tr style=\"text-align: right;\">\n",
       "      <th></th>\n",
       "      <th>User ID</th>\n",
       "      <th>Group</th>\n",
       "      <th>Page Views</th>\n",
       "      <th>Time Spent</th>\n",
       "      <th>Conversion</th>\n",
       "      <th>Device</th>\n",
       "      <th>Location</th>\n",
       "    </tr>\n",
       "  </thead>\n",
       "  <tbody>\n",
       "    <tr>\n",
       "      <th>0</th>\n",
       "      <td>14292</td>\n",
       "      <td>B</td>\n",
       "      <td>3</td>\n",
       "      <td>424</td>\n",
       "      <td>No</td>\n",
       "      <td>Mobile</td>\n",
       "      <td>Northern Ireland</td>\n",
       "    </tr>\n",
       "    <tr>\n",
       "      <th>1</th>\n",
       "      <td>11682</td>\n",
       "      <td>A</td>\n",
       "      <td>9</td>\n",
       "      <td>342</td>\n",
       "      <td>No</td>\n",
       "      <td>Mobile</td>\n",
       "      <td>Scotland</td>\n",
       "    </tr>\n",
       "    <tr>\n",
       "      <th>2</th>\n",
       "      <td>19825</td>\n",
       "      <td>A</td>\n",
       "      <td>2</td>\n",
       "      <td>396</td>\n",
       "      <td>No</td>\n",
       "      <td>Desktop</td>\n",
       "      <td>Northern Ireland</td>\n",
       "    </tr>\n",
       "    <tr>\n",
       "      <th>3</th>\n",
       "      <td>16080</td>\n",
       "      <td>B</td>\n",
       "      <td>4</td>\n",
       "      <td>318</td>\n",
       "      <td>No</td>\n",
       "      <td>Desktop</td>\n",
       "      <td>Wales</td>\n",
       "    </tr>\n",
       "    <tr>\n",
       "      <th>4</th>\n",
       "      <td>18851</td>\n",
       "      <td>A</td>\n",
       "      <td>1</td>\n",
       "      <td>338</td>\n",
       "      <td>Yes</td>\n",
       "      <td>Desktop</td>\n",
       "      <td>Scotland</td>\n",
       "    </tr>\n",
       "  </tbody>\n",
       "</table>\n",
       "</div>"
      ],
      "text/plain": [
       "   User ID Group  Page Views  Time Spent Conversion   Device          Location\n",
       "0    14292     B           3         424         No   Mobile  Northern Ireland\n",
       "1    11682     A           9         342         No   Mobile          Scotland\n",
       "2    19825     A           2         396         No  Desktop  Northern Ireland\n",
       "3    16080     B           4         318         No  Desktop             Wales\n",
       "4    18851     A           1         338        Yes  Desktop          Scotland"
      ]
     },
     "execution_count": 41,
     "metadata": {},
     "output_type": "execute_result"
    }
   ],
   "source": [
    "df = pd.read_csv(\"ab_testing.csv\")\n",
    "df.head()"
   ]
  },
  {
   "cell_type": "code",
   "execution_count": 42,
   "metadata": {},
   "outputs": [
    {
     "name": "stdout",
     "output_type": "stream",
     "text": [
      "<class 'pandas.core.frame.DataFrame'>\n",
      "RangeIndex: 5000 entries, 0 to 4999\n",
      "Data columns (total 7 columns):\n",
      " #   Column      Non-Null Count  Dtype \n",
      "---  ------      --------------  ----- \n",
      " 0   User ID     5000 non-null   int64 \n",
      " 1   Group       5000 non-null   object\n",
      " 2   Page Views  5000 non-null   int64 \n",
      " 3   Time Spent  5000 non-null   int64 \n",
      " 4   Conversion  5000 non-null   object\n",
      " 5   Device      5000 non-null   object\n",
      " 6   Location    5000 non-null   object\n",
      "dtypes: int64(3), object(4)\n",
      "memory usage: 273.6+ KB\n"
     ]
    }
   ],
   "source": [
    "df.info()"
   ]
  },
  {
   "cell_type": "code",
   "execution_count": 43,
   "metadata": {},
   "outputs": [
    {
     "data": {
      "text/plain": [
       "User ID       0\n",
       "Group         0\n",
       "Page Views    0\n",
       "Time Spent    0\n",
       "Conversion    0\n",
       "Device        0\n",
       "Location      0\n",
       "dtype: int64"
      ]
     },
     "execution_count": 43,
     "metadata": {},
     "output_type": "execute_result"
    }
   ],
   "source": [
    "# Check missing values\n",
    "df.isnull().sum()"
   ]
  },
  {
   "cell_type": "code",
   "execution_count": 44,
   "metadata": {},
   "outputs": [
    {
     "name": "stdout",
     "output_type": "stream",
     "text": [
      "No Duplication\n"
     ]
    }
   ],
   "source": [
    "# Check duplicates\n",
    "if df.duplicated().sum() > 0 :\n",
    "    print(\"There is duplication\")\n",
    "else:\n",
    "    print(\"No Duplication\")"
   ]
  },
  {
   "cell_type": "markdown",
   "metadata": {},
   "source": [
    "## A/B testing on Discrete metrics: Conversion"
   ]
  },
  {
   "cell_type": "markdown",
   "metadata": {},
   "source": [
    "### Conversion Rate"
   ]
  },
  {
   "cell_type": "code",
   "execution_count": 45,
   "metadata": {},
   "outputs": [
    {
     "data": {
      "text/html": [
       "<div>\n",
       "<style scoped>\n",
       "    .dataframe tbody tr th:only-of-type {\n",
       "        vertical-align: middle;\n",
       "    }\n",
       "\n",
       "    .dataframe tbody tr th {\n",
       "        vertical-align: top;\n",
       "    }\n",
       "\n",
       "    .dataframe thead th {\n",
       "        text-align: right;\n",
       "    }\n",
       "</style>\n",
       "<table border=\"1\" class=\"dataframe\">\n",
       "  <thead>\n",
       "    <tr style=\"text-align: right;\">\n",
       "      <th>Conversion</th>\n",
       "      <th>No</th>\n",
       "      <th>Yes</th>\n",
       "    </tr>\n",
       "    <tr>\n",
       "      <th>Group</th>\n",
       "      <th></th>\n",
       "      <th></th>\n",
       "    </tr>\n",
       "  </thead>\n",
       "  <tbody>\n",
       "    <tr>\n",
       "      <th>A</th>\n",
       "      <td>0.946010</td>\n",
       "      <td>0.053990</td>\n",
       "    </tr>\n",
       "    <tr>\n",
       "      <th>B</th>\n",
       "      <td>0.859331</td>\n",
       "      <td>0.140669</td>\n",
       "    </tr>\n",
       "  </tbody>\n",
       "</table>\n",
       "</div>"
      ],
      "text/plain": [
       "Conversion        No       Yes\n",
       "Group                         \n",
       "A           0.946010  0.053990\n",
       "B           0.859331  0.140669"
      ]
     },
     "execution_count": 45,
     "metadata": {},
     "output_type": "execute_result"
    }
   ],
   "source": [
    "df.groupby('Group')['Conversion'].value_counts(normalize=True).unstack()"
   ]
  },
  {
   "cell_type": "code",
   "execution_count": 46,
   "metadata": {},
   "outputs": [
    {
     "data": {
      "image/png": "[encoded data removed]",
      "text/plain": [
       "<Figure size 700x400 with 1 Axes>"
      ]
     },
     "metadata": {},
     "output_type": "display_data"
    }
   ],
   "source": [
    "con_p = df.groupby('Group')['Conversion'].apply(lambda x: (x == 'Yes').mean())\n",
    "con_p.plot(kind ='bar', ylabel = 'Conversion rate', color = [\"#FFA3FD\", \"#2B3467\"], figsize = (7,4))\n",
    "\n",
    "plt.title(\"Conversion Rate By Group\")\n",
    "plt.xticks(rotation = 0)\n",
    "plt.show()"
   ]
  },
  {
   "cell_type": "markdown",
   "metadata": {},
   "source": [
    "- The Conversion number is a discrete metric, the sample size of the data is large, so **Pearson's Chi-Square Test** is much better to be applied.\n",
    "- The conversion rate for group B was higher (14.06%) than that of group A (5.39%). This suggests that **group B had a positive impact on conversions**, or we can say that users who use a black background color are more likely to complete the desired action. "
   ]
  },
  {
   "cell_type": "markdown",
   "metadata": {},
   "source": [
    "### Chi-Square Test"
   ]
  },
  {
   "cell_type": "markdown",
   "metadata": {},
   "source": [
    "The Chi-Square test is used to test if there is a dependency or association between two categorical variables."
   ]
  },
  {
   "cell_type": "markdown",
   "metadata": {},
   "source": [
    "We will test whether there is a correlation between the background color (Group) and completing the desired action (Conversion).\n",
    "\n",
    "Hypothesis:\n",
    "- **H0** : M1 = M2 => There is no statistically significant difference between group A and group B\n",
    "- **H1** : M1 ≠ M2 => There is a statistically significant difference between group A and group B"
   ]
  },
  {
   "cell_type": "code",
   "execution_count": 47,
   "metadata": {},
   "outputs": [],
   "source": [
    "ct = pd.crosstab(df['Group'], df['Conversion'])\n",
    "chi2, p_value, dof, expected = chi2_contingency(ct)"
   ]
  },
  {
   "cell_type": "code",
   "execution_count": 48,
   "metadata": {},
   "outputs": [
    {
     "name": "stdout",
     "output_type": "stream",
     "text": [
      "Chi-Square statistic = 106.22812337440538,  P-value = 6.571736018334222e-25\n",
      "Reject H0.\n"
     ]
    }
   ],
   "source": [
    "print(f\"Chi-Square statistic = {chi2},  P-value = {p_value}\")\n",
    "\n",
    "if p_value < 0.05 :\n",
    "    print(\"Reject H0.\")\n",
    "else:\n",
    "    print(\"Fail to Reject H0.\")"
   ]
  },
  {
   "cell_type": "markdown",
   "metadata": {},
   "source": [
    "Using a 5% significance level, we will reject H0 and choose H1: There is a statistically significant difference between group A and group B. This means that there is a relationship between the background color and the user completing the desired action.\n",
    "\n",
    "Because we tested it using Chi-Square Test, the results do not give or show how much impact the background color has on user actions.\n"
   ]
  },
  {
   "cell_type": "markdown",
   "metadata": {},
   "source": [
    "## A/B Testing on Continous metric: Page Views, Time Spent"
   ]
  },
  {
   "cell_type": "markdown",
   "metadata": {},
   "source": [
    "Steps:\n",
    "1. Establish the Hypothesis\n",
    "    - **H0** : M1 = M2  => There is no statistically significant difference between groups A and B.\n",
    "    - **H1** : M1 ≠ M2  => There is statistically significant difference between groups A and B.\n",
    "2. Assumption Check\n",
    "\n",
    "    2.1 Normality Assumption (Shapiro-Wilk Test)\n",
    "    - **H0** : The distribution is normal.\n",
    "    - **H1** : The distribution is not normal.\n",
    "\n",
    "    2.2 Variance Homogeneity (Levene Test) *\n",
    "    - **H0** : Variances are homogeneous.\n",
    "    - **H1** : Variances are not homogeneous.\n",
    "3. Implementation of the Hypothesis\n",
    "    - If **normal** & **homogeneity**, apply **T-test** (parametric test)\n",
    "    - If **normal** but **non-homogeneity**, apply **Welch Test**\n",
    "    - If **non-normal**, apply **Mann Whitney U Test** (non-parametric test)\n",
    "4. Interpret Results\n",
    "\n",
    "*only tested if the distribution is normal"
   ]
  },
  {
   "cell_type": "markdown",
   "metadata": {},
   "source": [
    "### **Page Views**"
   ]
  },
  {
   "cell_type": "code",
   "execution_count": 49,
   "metadata": {},
   "outputs": [],
   "source": [
    "# Normality Assumption\n",
    "test_stat, pvalue = shapiro(df.loc[df['Group'] == 'A', 'Page Views'])"
   ]
  },
  {
   "cell_type": "code",
   "execution_count": 50,
   "metadata": {},
   "outputs": [
    {
     "name": "stdout",
     "output_type": "stream",
     "text": [
      "Test Stat = 0.9418079853057861,  P-Value = 2.1348030653871078e-30\n",
      "Reject H0. Distribution is not normal.\n"
     ]
    }
   ],
   "source": [
    "print(f\"Test Stat = {test_stat},  P-Value = {pvalue}\")\n",
    "\n",
    "if pvalue < 0.05 :\n",
    "    print(\"Reject H0. Distribution is not normal.\")\n",
    "else:\n",
    "    print(\"Fail to Reject H0. Distribution is normal\")"
   ]
  },
  {
   "cell_type": "markdown",
   "metadata": {},
   "source": [
    "Since the distribution is not normal, then \n",
    "- there is no need to test the homogeneity of variance\n",
    "- we will directly perform non-parametric testing using the Mann Whitney U Test to compare the two groups."
   ]
  },
  {
   "cell_type": "code",
   "execution_count": 51,
   "metadata": {},
   "outputs": [],
   "source": [
    "# Mann Whitney U Test\n",
    "test_stat, pvalue = mannwhitneyu(df.loc[df['Group'] == 'A', 'Page Views'], \n",
    "                                 df.loc[df['Group'] == 'B', 'Page Views'])"
   ]
  },
  {
   "cell_type": "code",
   "execution_count": 52,
   "metadata": {},
   "outputs": [
    {
     "name": "stdout",
     "output_type": "stream",
     "text": [
      "Test Stat = 3165458.0,  P-Value = 0.42467839841511335\n",
      "Fail to Reject H0.\n"
     ]
    }
   ],
   "source": [
    "print(f\"Test Stat = {test_stat},  P-Value = {pvalue}\")\n",
    "\n",
    "if pvalue < 0.05 :\n",
    "    print(\"Reject H0.\")\n",
    "else:\n",
    "    print(\"Fail to Reject H0.\")"
   ]
  },
  {
   "cell_type": "markdown",
   "metadata": {},
   "source": [
    "Using a 5% significance level, we fail  to reject H0: There is no statistically significant difference between groups A and B. This means that there is no significant effect between the background color and the number of pages viewed by users."
   ]
  },
  {
   "cell_type": "markdown",
   "metadata": {},
   "source": [
    "### **Time Spent**"
   ]
  },
  {
   "cell_type": "code",
   "execution_count": 53,
   "metadata": {},
   "outputs": [],
   "source": [
    "# Normality Assumption\n",
    "test_stat, pvalue = shapiro(df.loc[df['Group'] == 'A', 'Time Spent'])"
   ]
  },
  {
   "cell_type": "code",
   "execution_count": 54,
   "metadata": {},
   "outputs": [
    {
     "name": "stdout",
     "output_type": "stream",
     "text": [
      "Test Stat = 0.9548661708831787,  P-Value = 3.081412607158752e-27\n",
      "Reject H0. Distribution is not normal.\n"
     ]
    }
   ],
   "source": [
    "print(f\"Test Stat = {test_stat},  P-Value = {pvalue}\")\n",
    "\n",
    "if pvalue < 0.05 :\n",
    "    print(\"Reject H0. Distribution is not normal.\")\n",
    "else:\n",
    "    print(\"Fail to Reject H0. Distribution is normal\")"
   ]
  },
  {
   "cell_type": "code",
   "execution_count": 55,
   "metadata": {},
   "outputs": [],
   "source": [
    "# Mann Whitney U Test\n",
    "test_stat, pvalue = mannwhitneyu(df.loc[df['Group'] == 'A', 'Time Spent'], \n",
    "                                 df.loc[df['Group'] == 'B', 'Time Spent'])"
   ]
  },
  {
   "cell_type": "code",
   "execution_count": 56,
   "metadata": {},
   "outputs": [
    {
     "name": "stdout",
     "output_type": "stream",
     "text": [
      "Test Stat = 3101095.0,  P-Value = 0.6420301034033706\n",
      "Fail to Reject H0.\n"
     ]
    }
   ],
   "source": [
    "print(f\"Test Stat = {test_stat},  P-Value = {pvalue}\")\n",
    "\n",
    "if pvalue < 0.05 :\n",
    "    print(\"Reject H0.\")\n",
    "else:\n",
    "    print(\"Fail to Reject H0.\")"
   ]
  },
  {
   "cell_type": "markdown",
   "metadata": {},
   "source": [
    "Using a 5% significance level, we fail to reject H0: There is no statistically significant difference between groups A and B. This means that there is no significant effect between the background color and total amount of time spent by users."
   ]
  }
 ],
 "metadata": {
  "kernelspec": {
   "display_name": "Python 3",
   "language": "python",
   "name": "python3"
  },
  "language_info": {
   "codemirror_mode": {
    "name": "ipython",
    "version": 3
   },
   "file_extension": ".py",
   "mimetype": "text/x-python",
   "name": "python",
   "nbconvert_exporter": "python",
   "pygments_lexer": "ipython3",
   "version": "3.10.11"
  }
 },
 "nbformat": 4,
 "nbformat_minor": 2
}
